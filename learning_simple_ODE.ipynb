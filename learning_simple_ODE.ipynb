{
  "nbformat": 4,
  "nbformat_minor": 0,
  "metadata": {
    "colab": {
      "provenance": [],
      "authorship_tag": "ABX9TyMBd5Y+e+jGnFP0wxiiO//7"
    },
    "kernelspec": {
      "name": "python3",
      "display_name": "Python 3"
    },
    "language_info": {
      "name": "python"
    }
  },
  "cells": [
    {
      "cell_type": "markdown",
      "source": [
        "Resolving ODE with machine learning"
      ],
      "metadata": {
        "id": "I6T373BeYy6J"
      }
    },
    {
      "cell_type": "markdown",
      "source": [
        "Considere the following ordinary differential equation:\n",
        "$$(1)\\quad \\forall x\\in [0,1]\\quad g'(x)+g(x)=0 \\quad g(0)=1.$$\n",
        "One can show that the solution of this equation is unic and given by\n",
        "$$\\phi: x\\mapsto e^{-x}.$$\n",
        "\n",
        "The goal of this short notebook is to compare euler method and different architectures of neuronal networks that are able to \"solve\" this equation."
      ],
      "metadata": {
        "id": "WaVLHmSPK69x"
      }
    },
    {
      "cell_type": "markdown",
      "source": [
        "# Euler method:"
      ],
      "metadata": {
        "id": "Rr4xlzGp4JGF"
      }
    },
    {
      "cell_type": "markdown",
      "source": [
        "But first let's start with one of the classical numerical method, the Euler method.\n",
        "The idea behind this method is to say that, since for $x\\in C^1$\n",
        "$$x^{\\prime}(t):=\\lim_{h\\to 0}\\frac{x(t+h)-x(t)}{h},$$ then one can approximate\n",
        "$x^{\\prime}(t)$ by $\\frac{x(t+h)-x(t)}{h}$ for $h$ sufficiently small.\n",
        "Now if one want to solve $$\\forall t\\in [0,1]\\quad x^{\\prime}(t)=F(x(t),t),\\quad x(0)=1,$$ one use the previous approximation to find\n",
        "$$x(t+h)\\approx x(t)+hF(x(t),t).$$\n",
        "So, given a function $F$, $(t_1,t_2,...,t_N)$ a subdivision of $[0,1]$ and $h>0$, we have\n",
        "$$\\forall k\\in [1,N]\\quad x(t_{k}+h)=x(t_k)+hF(x(t_k),t_k).$$\n",
        "\n",
        "In our case:\n",
        "$$F : x\\mapsto -x, \\forall k\\in [0,1000]\\quad t_k=\\frac{k}{N}\\quad h=1/1000.$$\n",
        "\n"
      ],
      "metadata": {
        "id": "qn2EotyLRvtX"
      }
    },
    {
      "cell_type": "markdown",
      "source": [
        "Source: https://www.pnw.edu/wp-content/uploads/2020/03/Lecture-Notes-10-5.pdf"
      ],
      "metadata": {
        "id": "_Wp4uoJmt8kJ"
      }
    },
    {
      "cell_type": "markdown",
      "source": [
        "Let's code it."
      ],
      "metadata": {
        "id": "AgyytA_VUgnS"
      }
    },
    {
      "cell_type": "code",
      "source": [
        "import numpy as np\n",
        "import matplotlib.pyplot as plt\n",
        "from matplotlib.patches import Arc"
      ],
      "metadata": {
        "id": "VdpkdoGrUm_z"
      },
      "execution_count": 1,
      "outputs": []
    },
    {
      "cell_type": "code",
      "source": [
        "def true_sol(t):\n",
        "  \"\"\"\n",
        "\n",
        "  Args:\n",
        "    t: time\n",
        "\n",
        "  Returns: exp(-t) solution of the equation (1)\n",
        "\n",
        "  \"\"\"\n",
        "  return np.exp(-t)\n",
        "def euler(N=10000):\n",
        "  #N number of sub division of [0,1]\n",
        "  h=1/N\n",
        "  x=np.zeros(N)\n",
        "  x[0]=1 #initial condition\n",
        "  for k in range(N-1):\n",
        "    x[k+1]=x[k]-h*x[k]\n",
        "  #Returns: list of (approx(t) for t in subdivision) where approx(t) is the approximation of the true solution\n",
        "  return x"
      ],
      "metadata": {
        "id": "ARJ9xt2wL4wD"
      },
      "execution_count": 2,
      "outputs": []
    },
    {
      "cell_type": "code",
      "source": [
        "plt.figure()\n",
        "subdivision=[k/10000 for k in range(10000)]\n",
        "#plt.plot(subdivision, euler())\n",
        "#plt.plot(subdivision, [true_sol(t) for t in subdivision])\n",
        "plt.plot(subdivision, np.abs(np.array([true_sol(t) for t in subdivision])-np.array(euler())), label='error plot')\n",
        "plt.legend()\n",
        "plt.show()"
      ],
      "metadata": {
        "colab": {
          "base_uri": "https://localhost:8080/",
          "height": 445
        },
        "id": "xbmVy2STXNN9",
        "outputId": "12138614-b5fa-4623-8f5b-1902b76114e6"
      },
      "execution_count": 3,
      "outputs": [
        {
          "output_type": "display_data",
          "data": {
            "text/plain": [
              "<Figure size 640x480 with 1 Axes>"
            ],
            "image/png": "[encoded data removed]"
          },
          "metadata": {}
        }
      ]
    },
    {
      "cell_type": "code",
      "source": [],
      "metadata": {
        "id": "BJZ2jVOYgi5s"
      },
      "execution_count": 7,
      "outputs": []
    },
    {
      "cell_type": "markdown",
      "source": [
        "# Can neuronal network approximate the ODE (1) solution ?\n",
        "\n",
        "Now, the idea is to find a neuronal network that approximate the solution of $(1)$.\n",
        "\n",
        "We are looking for parameters $\\Theta=(\\theta_1,\\theta_2)$ and $\\beta=(b_1,b_2)$ such that if\n",
        "$$g_{\\Theta,β}(t):=f_{1}(f_{2}(\\theta_1 t+b_1) \\theta_2+b_2)$$ where $f_1$ and $f_2$ are two given activations functions, one has\n",
        "$$g_{\\Theta,β}^{\\prime}+g_{\\Theta,β}\\approx 0 \\quad g_{\\Theta,β}(0)\\approx 1.$$\n",
        "To do so, one define the loss\n",
        "$$L_{\\lambda}(\\Theta,\\beta):=\\frac{1}{N}\\sum_{1\\leq i\\leq N}(g_{\\Theta,β}^{\\prime}(x_i)+g_{\\Theta,β}(x_i))^2+\\lambda (g_{\\Theta,β}(0)-1)^2.$$\n",
        "Where $$\\forall i\\in [1,N]\\quad x_i:=\\frac{i}{N}.$$"
      ],
      "metadata": {
        "id": "TQ42OSlBQhht"
      }
    },
    {
      "cell_type": "markdown",
      "source": [
        "Notice that here, in the loss $L_\\lambda$ we have a terme $\\lambda (g_{\\Theta,\\beta}(0)-1)^{2}$ which corresponds to initial condition. Actually, this is one way to encode intial condition, another way would be to search a solution $g_{\\theta, \\beta}$ that by construction is equal to the initial condition, see the pionier work of  \tI. E. Lagaris, A. Likas, D. I. Fotiadis;\n",
        "https://doi.org/10.48550/arXiv.physics/9705023. They suggest to find a solution of the form $$m: x\\mapsto A(x) +xg_{\\theta,\\beta}(x),$$ where $A$ verifies the initial condition assuming the initial condition is of the form $g(0)=\\alpha$.  "
      ],
      "metadata": {
        "id": "4NGLLu8vyifO"
      }
    },
    {
      "cell_type": "markdown",
      "source": [],
      "metadata": {
        "id": "opgRDD1tWXxA"
      }
    },
    {
      "cell_type": "code",
      "source": [
        "import torch\n",
        "import torch.nn as nn\n",
        "import torch.optim as optim"
      ],
      "metadata": {
        "id": "lTe_OVLlX3aS"
      },
      "execution_count": 5,
      "outputs": []
    },
    {
      "cell_type": "markdown",
      "source": [
        "As a first neuronal network we choose the Multilayer-Perceptron (MLP), the simplest one from the feedforward neuronal network classe.\n"
      ],
      "metadata": {
        "id": "eNJ3nYgIe-G7"
      }
    },
    {
      "cell_type": "code",
      "source": [
        "class MLP(nn.Module):\n",
        "  def __init__(self):\n",
        "    super(MLP,self).__init__()\n",
        "    self.fc1 = nn.Linear(1, 200) #(input_size, hidden_size)\n",
        "    self.fc2 = nn.Linear(200, 1) #(input_size, hidden_size)\n",
        "\n",
        "  def forward(self, t):\n",
        "    x = torch.sigmoid(self.fc1(t))\n",
        "    return self.fc2(x)"
      ],
      "metadata": {
        "id": "rRc5ABxPbEqD"
      },
      "execution_count": 6,
      "outputs": []
    },
    {
      "cell_type": "markdown",
      "source": [
        "Mathematically speaking the above MLP is defined by:\n",
        "$$\\forall t\\in \\mathbb{R}\\quad \\forall i \\in [1,q:=hidden size]\\quad u_{i}=w_{i}t+b_{i}$$\n",
        "$$g_{\\theta,\\beta}(t)=\\sigma\\left(\\sum_{1\\leq i\\leq q}w_{i}t+b_{i}\\right)=\\sigma(t\\theta\\mathbb{1}^{T}+\\beta)\\quad \\theta=(w_1,...,w_q)\\quad \\beta=(b_1,...,b_q).$$\n",
        "\n",
        "Where:\n",
        "$$\\sigma : x\\mapsto \\frac{1}{1+e^{-x}}.$$"
      ],
      "metadata": {
        "id": "Itd68BiV9P24"
      }
    },
    {
      "cell_type": "code",
      "source": [],
      "metadata": {
        "id": "x74Hwo3E9O9o"
      },
      "execution_count": 9,
      "outputs": []
    },
    {
      "cell_type": "code",
      "source": [],
      "metadata": {
        "id": "fTSDfJ_c8nVa"
      },
      "execution_count": 9,
      "outputs": []
    },
    {
      "cell_type": "markdown",
      "source": [
        "The resnet, noted $Res$ is a neuronal network which can be written as:\n",
        "$$Res : x\\mapsto f(x)+x,$$ where $f$ is a neuronal network, in our case $f=MLP$."
      ],
      "metadata": {
        "id": "35HXNG9cfjT3"
      }
    },
    {
      "cell_type": "code",
      "source": [
        "class Resnet(nn.Module):\n",
        "  def __init__(self):\n",
        "    super(Resnet,self).__init__()\n",
        "    self.fc1 = nn.Linear(1, 10)\n",
        "    self.fc2 = nn.Linear(10, 1)\n",
        "\n",
        "  def forward(self, t):\n",
        "    x = torch.sigmoid(self.fc1(t))\n",
        "    return self.fc2(x)+t"
      ],
      "metadata": {
        "id": "KPeKhM1xMBzs"
      },
      "execution_count": 7,
      "outputs": []
    },
    {
      "cell_type": "code",
      "source": [],
      "metadata": {
        "id": "cKYe7AZ5k-dc"
      },
      "execution_count": 10,
      "outputs": []
    },
    {
      "cell_type": "markdown",
      "source": [
        "x^{\\prime \\prime}"
      ],
      "metadata": {
        "id": "tW-rxYQJFnPd"
      }
    },
    {
      "cell_type": "code",
      "source": [
        "def loss_fn(model,t):\n",
        "  t.requires_grad_(True)\n",
        "  x=model(t)\n",
        "  x_prime = torch.autograd.grad(outputs=x, inputs=t,\n",
        "                                   grad_outputs=torch.ones_like(x),\n",
        "                                   create_graph=True)[0]\n",
        "  loss1 = (x_prime + x) ** 2\n",
        "  loss2 = (model(torch.tensor([[0.0]])) - 1) ** 2\n",
        "\n",
        "  return torch.mean(loss1) + loss2\n",
        "def loss_degre_2(model,t):\n",
        "  t.requires_grad_(True) #activation of the gradient w.r.t to t\n",
        "  x=model(t) #neuronal network we want to plug in\n",
        "  x_prime=torch.autograd.grad(outputs=x, inputs=t,\n",
        "                              grad_outputs=torch.ones_like(x)\n",
        "                              , create_graph=True)[0]\n",
        "  x_prime_prime=torch.autograd.grad(outputs=x_prime, inputs=t,\n",
        "                              grad_outputs=torch.ones_like(x)\n",
        "                              , create_graph=True)[0]\n",
        "  loss_ode=(x_prime_prime+x)**2\n",
        "  condition_init_loss=(model(torch.tensor([[0.0]])) - 0)**2\n",
        "  return torch.mean(loss_ode)+condition_init_loss\n"
      ],
      "metadata": {
        "id": "h_W-3GnPbmPG"
      },
      "execution_count": 8,
      "outputs": []
    },
    {
      "cell_type": "markdown",
      "source": [
        "Here we have coded:\n",
        "$$L_{1}(\\Theta,\\beta):=\\frac{1}{N}\\sum_{1\\leq i\\leq N}(g_{\\Theta,β}^{\\prime}(x_i)+g_{\\Theta,β}(x_i))^2+ (g_{\\Theta,β}(0)-1)^2.$$\n",
        "$$L_{2}(\\Theta,\\beta):=\\frac{1}{N}\\sum_{1\\leq i\\leq N}(g_{\\Theta,β}^{\\prime \\prime}(x_i)+g_{\\Theta,β}(x_i))^2+ (g_{\\Theta,β}(0)-0)^2.$$\n",
        "Where $$\\forall i\\in [1,N]\\quad x_i:=\\frac{i}{N}.$$"
      ],
      "metadata": {
        "id": "2uDfwPL-tUwW"
      }
    },
    {
      "cell_type": "code",
      "source": [
        "def train(model, loss_fct):\n",
        "  loss_values=[]\n",
        "  optimizer = optim.Adam(model.parameters(), lr=0.1)\n",
        "  for epoch in range(10000):\n",
        "    optimizer.zero_grad()\n",
        "    t = torch.linspace(0, 1, 500).view(-1, 1) #Training is on [0,1]\n",
        "    loss= loss_fct(model,t)\n",
        "    loss.backward()\n",
        "    optimizer.step()\n",
        "\n",
        "    if epoch % 100 == 0:\n",
        "        print(f'Époch {epoch}: Loss = {loss.item()}')\n",
        "        loss_values.append(loss.item())"
      ],
      "metadata": {
        "id": "6YkitmDGmA7-"
      },
      "execution_count": 9,
      "outputs": []
    },
    {
      "cell_type": "code",
      "source": [
        "\"for each f=MLP or Resnet we store x_VALUES containes f(t) for t in range [0,10]\"\n",
        "x_VALUES=[]\n",
        "t_values = torch.linspace(0, 20, 500).view(-1, 1)\n",
        "MODELS=[MLP(),Resnet()]\n",
        "for model in MODELS:\n",
        "  train(model, loss_fct=loss_fn)\n",
        "  x_values = model(t_values).detach().numpy()\n",
        "  x_VALUES.append(x_values)"
      ],
      "metadata": {
        "colab": {
          "base_uri": "https://localhost:8080/"
        },
        "id": "Q7nY8rukWfIo",
        "outputId": "60522abe-48d5-4c86-85dc-283157efd51f"
      },
      "execution_count": 10,
      "outputs": [
        {
          "output_type": "stream",
          "name": "stdout",
          "text": [
            "Époch 0: Loss = 1.629171371459961\n",
            "Époch 100: Loss = 0.0026571685448288918\n",
            "Époch 200: Loss = 0.0007118309731595218\n",
            "Époch 300: Loss = 0.00034688872983679175\n",
            "Époch 400: Loss = 0.00018031653598882258\n",
            "Époch 500: Loss = 0.00011731460836017504\n",
            "Époch 600: Loss = 9.611152927391231e-05\n",
            "Époch 700: Loss = 8.839878864819184e-05\n",
            "Époch 800: Loss = 8.414549665758386e-05\n",
            "Époch 900: Loss = 8.053382771322504e-05\n",
            "Époch 1000: Loss = 7.694085797993466e-05\n",
            "Époch 1100: Loss = 7.327379717025906e-05\n",
            "Époch 1200: Loss = 6.953910633455962e-05\n",
            "Époch 1300: Loss = 6.575867882929742e-05\n",
            "Époch 1400: Loss = 6.195367313921452e-05\n",
            "Époch 1500: Loss = 5.814503674628213e-05\n",
            "Époch 1600: Loss = 5.4351963626686484e-05\n",
            "Époch 1700: Loss = 5.0593043852131814e-05\n",
            "Époch 1800: Loss = 4.688590342993848e-05\n",
            "Époch 1900: Loss = 4.324687324697152e-05\n",
            "Époch 2000: Loss = 3.969192403019406e-05\n",
            "Époch 2100: Loss = 3.6235840525478125e-05\n",
            "Époch 2200: Loss = 3.289320011390373e-05\n",
            "Époch 2300: Loss = 2.967757791338954e-05\n",
            "Époch 2400: Loss = 2.6601172066875733e-05\n",
            "Époch 2500: Loss = 2.367648994550109e-05\n",
            "Époch 2600: Loss = 2.0913839762215503e-05\n",
            "Époch 2700: Loss = 1.8323316908208653e-05\n",
            "Époch 2800: Loss = 1.5912879462121055e-05\n",
            "Époch 2900: Loss = 1.3689245861314703e-05\n",
            "Époch 3000: Loss = 1.165706453321036e-05\n",
            "Époch 3100: Loss = 9.818916623771656e-06\n",
            "Époch 3200: Loss = 8.174756658263505e-06\n",
            "Époch 3300: Loss = 6.722172656736802e-06\n",
            "Époch 3400: Loss = 5.455661721498473e-06\n",
            "Époch 3500: Loss = 4.3672971514752135e-06\n",
            "Époch 3600: Loss = 3.4464635518816067e-06\n",
            "Époch 3700: Loss = 2.6803763830685057e-06\n",
            "Époch 3800: Loss = 2.054199740086915e-06\n",
            "Époch 3900: Loss = 1.5520880651820335e-06\n",
            "Époch 4000: Loss = 1.157493784376129e-06\n",
            "Époch 4100: Loss = 8.538810334357549e-07\n",
            "Époch 4200: Loss = 6.253919195842172e-07\n",
            "Époch 4300: Loss = 4.573928151785367e-07\n",
            "Époch 4400: Loss = 3.367837280165986e-07\n",
            "Époch 4500: Loss = 2.523217972338898e-07\n",
            "Époch 4600: Loss = 1.9464110323497152e-07\n",
            "Époch 4700: Loss = 1.5624866023244977e-07\n",
            "Époch 4800: Loss = 1.3132797960224707e-07\n",
            "Époch 4900: Loss = 1.1551934164799604e-07\n",
            "Époch 5000: Loss = 1.0568788866294199e-07\n",
            "Époch 5100: Loss = 9.964614378077385e-08\n",
            "Époch 5200: Loss = 9.591909844175461e-08\n",
            "Époch 5300: Loss = 9.355667884847207e-08\n",
            "Époch 5400: Loss = 9.196050143600587e-08\n",
            "Époch 5500: Loss = 9.076651963368931e-08\n",
            "Époch 5600: Loss = 8.97775365160669e-08\n",
            "Époch 5700: Loss = 8.887878522045867e-08\n",
            "Époch 5800: Loss = 8.799823092431325e-08\n",
            "Époch 5900: Loss = 0.0010785168269649148\n",
            "Époch 6000: Loss = 3.118406084468006e-06\n",
            "Époch 6100: Loss = 2.17526803680812e-06\n",
            "Époch 6200: Loss = 1.4792830143051106e-06\n",
            "Époch 6300: Loss = 9.815493058340508e-07\n",
            "Époch 6400: Loss = 6.389748818946828e-07\n",
            "Époch 6500: Loss = 4.124426311591378e-07\n",
            "Époch 6600: Loss = 2.6870321789829177e-07\n",
            "Époch 6700: Loss = 1.8120019262823917e-07\n",
            "Époch 6800: Loss = 1.3009082522330573e-07\n",
            "Époch 6900: Loss = 1.0138493422573447e-07\n",
            "Époch 7000: Loss = 2.6145946321776137e-05\n",
            "Époch 7100: Loss = 1.274154442398867e-06\n",
            "Époch 7200: Loss = 9.72289171841112e-07\n",
            "Époch 7300: Loss = 7.693246857343183e-07\n",
            "Époch 7400: Loss = 6.030429062775511e-07\n",
            "Époch 7500: Loss = 4.693185360338248e-07\n",
            "Époch 7600: Loss = 3.6390056834534334e-07\n",
            "Époch 7700: Loss = 2.825940441653074e-07\n",
            "Époch 7800: Loss = 2.212942291635045e-07\n",
            "Époch 7900: Loss = 1.761868873018102e-07\n",
            "Époch 8000: Loss = 1.438089043404034e-07\n",
            "Époch 8100: Loss = 1.2114396952256357e-07\n",
            "Époch 8200: Loss = 1.0567421782070596e-07\n",
            "Époch 8300: Loss = 9.536609013593988e-08\n",
            "Époch 8400: Loss = 8.873498558159554e-08\n",
            "Époch 8500: Loss = 3.4547811083029956e-05\n",
            "Époch 8600: Loss = 2.9138305990272784e-07\n",
            "Époch 8700: Loss = 2.2416737976982404e-07\n",
            "Époch 8800: Loss = 1.7362678761401185e-07\n",
            "Époch 8900: Loss = 1.362530213100399e-07\n",
            "Époch 9000: Loss = 1.0923481141844604e-07\n",
            "Époch 9100: Loss = 9.015050750349474e-08\n",
            "Époch 9200: Loss = 7.699980386632888e-08\n",
            "Époch 9300: Loss = 6.815190545239602e-08\n",
            "Époch 9400: Loss = 0.003218011697754264\n",
            "Époch 9500: Loss = 2.50441729576778e-07\n",
            "Époch 9600: Loss = 1.683591364098902e-07\n",
            "Époch 9700: Loss = 1.2428220941274049e-07\n",
            "Époch 9800: Loss = 9.28697119206845e-08\n",
            "Époch 9900: Loss = 7.101114363194938e-08\n",
            "Époch 0: Loss = 3.412384510040283\n",
            "Époch 100: Loss = 0.0040268017910420895\n",
            "Époch 200: Loss = 0.002578969346359372\n",
            "Époch 300: Loss = 0.0017142770811915398\n",
            "Époch 400: Loss = 0.0011663418263196945\n",
            "Époch 500: Loss = 0.0007818800513632596\n",
            "Époch 600: Loss = 0.0004870533011853695\n",
            "Époch 700: Loss = 0.00038506981218233705\n",
            "Époch 800: Loss = 0.00013407532242126763\n",
            "Époch 900: Loss = 8.345034439116716e-05\n",
            "Époch 1000: Loss = 2.7341120585333556e-05\n",
            "Époch 1100: Loss = 1.0476993338670582e-05\n",
            "Époch 1200: Loss = 0.003662594361230731\n",
            "Époch 1300: Loss = 6.704333372908877e-06\n",
            "Époch 1400: Loss = 4.371293925942155e-06\n",
            "Époch 1500: Loss = 3.946215656469576e-06\n",
            "Époch 1600: Loss = 2.777410190901719e-05\n",
            "Époch 1700: Loss = 2.9443697258102475e-06\n",
            "Époch 1800: Loss = 2.5885146897053346e-06\n",
            "Époch 1900: Loss = 1.5611518392688595e-05\n",
            "Époch 2000: Loss = 1.9246365354774753e-06\n",
            "Époch 2100: Loss = 1.5404053783640848e-06\n",
            "Époch 2200: Loss = 0.015910089015960693\n",
            "Époch 2300: Loss = 2.1191297037148615e-06\n",
            "Époch 2400: Loss = 1.2245950529177207e-06\n",
            "Époch 2500: Loss = 1.2139205409766873e-06\n",
            "Époch 2600: Loss = 3.251994348829612e-05\n",
            "Époch 2700: Loss = 1.9324811546539422e-06\n",
            "Époch 2800: Loss = 1.8170055682276143e-06\n",
            "Époch 2900: Loss = 1.7553795714775333e-06\n",
            "Époch 3000: Loss = 1.1273152267676778e-05\n",
            "Époch 3100: Loss = 2.7426247015682748e-06\n",
            "Époch 3200: Loss = 2.4269038476631977e-06\n",
            "Époch 3300: Loss = 1.244366831087973e-05\n",
            "Époch 3400: Loss = 3.855113391182385e-06\n",
            "Époch 3500: Loss = 3.173834556946531e-06\n",
            "Époch 3600: Loss = 0.004837138578295708\n",
            "Époch 3700: Loss = 5.3460044000530615e-06\n",
            "Époch 3800: Loss = 3.7155139125388814e-06\n",
            "Époch 3900: Loss = 3.003962547154515e-06\n",
            "Époch 4000: Loss = 9.421060894965194e-06\n",
            "Époch 4100: Loss = 4.097805231140228e-06\n",
            "Époch 4200: Loss = 3.1738629786559613e-06\n",
            "Époch 4300: Loss = 0.0017897437792271376\n",
            "Époch 4400: Loss = 4.3028712752857246e-06\n",
            "Époch 4500: Loss = 3.212012416042853e-06\n",
            "Époch 4600: Loss = 2.4474094971083105e-05\n",
            "Époch 4700: Loss = 5.3086987463757396e-06\n",
            "Époch 4800: Loss = 3.227391289328807e-06\n",
            "Époch 4900: Loss = 2.6714435534813674e-06\n",
            "Époch 5000: Loss = 6.642344033025438e-06\n",
            "Époch 5100: Loss = 3.405238203413319e-06\n",
            "Époch 5200: Loss = 2.7906301056646043e-06\n",
            "Époch 5300: Loss = 0.0019788038916885853\n",
            "Époch 5400: Loss = 4.0122818063537125e-06\n",
            "Époch 5500: Loss = 3.072306071771891e-06\n",
            "Époch 5600: Loss = 2.747214466580772e-06\n",
            "Époch 5700: Loss = 5.864872036909219e-06\n",
            "Époch 5800: Loss = 3.321085841889726e-06\n",
            "Époch 5900: Loss = 2.9362645364017226e-06\n",
            "Époch 6000: Loss = 3.9083177398424596e-05\n",
            "Époch 6100: Loss = 3.4776128359226277e-06\n",
            "Époch 6200: Loss = 3.1141298677539453e-06\n",
            "Époch 6300: Loss = 2.2233394702197984e-05\n",
            "Époch 6400: Loss = 3.7361839986260748e-06\n",
            "Époch 6500: Loss = 3.3691394492052495e-06\n",
            "Époch 6600: Loss = 0.00026163627626374364\n",
            "Époch 6700: Loss = 4.055753379361704e-06\n",
            "Époch 6800: Loss = 3.6260075830796268e-06\n",
            "Époch 6900: Loss = 0.00013835288700647652\n",
            "Époch 7000: Loss = 4.655707471101778e-06\n",
            "Époch 7100: Loss = 4.010542397736572e-06\n",
            "Époch 7200: Loss = 3.77654623662238e-06\n",
            "Époch 7300: Loss = 1.871600943559315e-05\n",
            "Époch 7400: Loss = 4.285387603886193e-06\n",
            "Époch 7500: Loss = 3.969447334384313e-06\n",
            "Époch 7600: Loss = 7.636476948391646e-05\n",
            "Époch 7700: Loss = 4.330910996941384e-06\n",
            "Époch 7800: Loss = 3.979148459620774e-06\n",
            "Époch 7900: Loss = 4.1599778342060745e-05\n",
            "Époch 8000: Loss = 4.2752308218041435e-06\n",
            "Époch 8100: Loss = 3.908480721293017e-06\n",
            "Époch 8200: Loss = 2.7076152036897838e-05\n",
            "Époch 8300: Loss = 4.075339802511735e-06\n",
            "Époch 8400: Loss = 3.6816109059145674e-06\n",
            "Époch 8500: Loss = 8.542626164853573e-05\n",
            "Époch 8600: Loss = 3.678951770780259e-06\n",
            "Époch 8700: Loss = 3.2778323202364845e-06\n",
            "Époch 8800: Loss = 0.00027343782130628824\n",
            "Époch 8900: Loss = 3.218947995264898e-06\n",
            "Époch 9000: Loss = 2.800007905534585e-06\n",
            "Époch 9100: Loss = 3.309362455183873e-06\n",
            "Époch 9200: Loss = 3.34342598762305e-06\n",
            "Époch 9300: Loss = 2.1188507162150927e-06\n",
            "Époch 9400: Loss = 2.133427415174083e-06\n",
            "Époch 9500: Loss = 2.76113860309124e-06\n",
            "Époch 9600: Loss = 1.4510239907394862e-06\n",
            "Époch 9700: Loss = 1.2342338777671102e-06\n",
            "Époch 9800: Loss = 1.6242054698523134e-05\n",
            "Époch 9900: Loss = 8.994811082629894e-07\n"
          ]
        }
      ]
    },
    {
      "cell_type": "code",
      "source": [
        "#for model in MODELS:\n",
        "#  print(f\"\\n Optimal weights {model}:\")\n",
        "#  for name, param in model.named_parameters():\n",
        "#    print(f\"{name}: {param.data.numpy()}\")"
      ],
      "metadata": {
        "id": "wluC90XlqgDd"
      },
      "execution_count": 22,
      "outputs": []
    },
    {
      "cell_type": "code",
      "source": [
        "#If you want to use \"optimal\" weights for MLP use this cell:\n",
        "model=MLP()\n",
        "model.load_state_dict(torch.load('/content/MLP_BEST_model_weights.pth')) #be carreful with the file path\n",
        "model.eval\n",
        "t_values = torch.linspace(0, 20, 500).view(-1, 1)\n",
        "MLP_optimal_values=model(t_values).detach().numpy()\n",
        "\n",
        "# plot section\n",
        "plt.plot(t_values.numpy(), MLP_optimal_values, label=f'NN approximation')\n",
        "plt.plot(t_values.numpy(), [true_sol(t) for t in t_values.numpy()], label='Analytical solution')\n",
        "#plt.plot(t_values.numpy(), [np.sin(t) for t in t_values.numpy()], label='Analytical solution')\n",
        "\n",
        "plt.xlabel('t')\n",
        "plt.ylabel('y')\n",
        "plt.title('Trajectories plots')\n",
        "\n",
        "plt.axvline(x=0, color='red', linestyle='--')  # red vertical axis for x=0\n",
        "plt.axvline(x=1, color='red', linestyle='--')  # red vercital axis for x=1\n",
        "plt.text(1, -0.25, 'train domain', horizontalalignment='center', fontsize=12)\n",
        "\n",
        "\n",
        "plt.legend()\n",
        "plt.grid()\n",
        "plt.savefig(\"MLP_xprime_x\")\n",
        "plt.show()"
      ],
      "metadata": {
        "colab": {
          "base_uri": "https://localhost:8080/",
          "height": 552
        },
        "id": "GG7YDra0Tene",
        "outputId": "4b6c9476-b2c9-41b3-c8ac-550a10451d40"
      },
      "execution_count": 12,
      "outputs": [
        {
          "output_type": "stream",
          "name": "stderr",
          "text": [
            "<ipython-input-12-5f31f1612fec>:3: FutureWarning: You are using `torch.load` with `weights_only=False` (the current default value), which uses the default pickle module implicitly. It is possible to construct malicious pickle data which will execute arbitrary code during unpickling (See https://github.com/pytorch/pytorch/blob/main/SECURITY.md#untrusted-models for more details). In a future release, the default value for `weights_only` will be flipped to `True`. This limits the functions that could be executed during unpickling. Arbitrary objects will no longer be allowed to be loaded via this mode unless they are explicitly allowlisted by the user via `torch.serialization.add_safe_globals`. We recommend you start setting `weights_only=True` for any use case where you don't have full control of the loaded file. Please open an issue on GitHub for any issues related to this experimental feature.\n",
            "  model.load_state_dict(torch.load('/content/MLP_BEST_model_weights.pth')) #be carreful with the file path\n"
          ]
        },
        {
          "output_type": "display_data",
          "data": {
            "text/plain": [
              "<Figure size 640x480 with 1 Axes>"
            ],
            "image/png": "[encoded data removed]"
          },
          "metadata": {}
        }
      ]
    },
    {
      "cell_type": "code",
      "source": [
        "# graphical check of the validity of the solution\n",
        "t_values = torch.linspace(0, 20, 500).view(-1, 1)\n",
        "x_values = x_VALUES[1]\n",
        "\n",
        "# plot section\n",
        "plt.plot(t_values.numpy(), x_values, label=f'NN approximation')\n",
        "plt.plot(t_values.numpy(), [true_sol(t) for t in t_values.numpy()], label='Analytical solution')\n",
        "#plt.plot(t_values.numpy(), [np.sin(t) for t in t_values.numpy()], label='Analytical solution')\n",
        "\n",
        "plt.xlabel('t')\n",
        "plt.ylabel('y')\n",
        "plt.title('Trajectories plots')\n",
        "\n",
        "plt.axvline(x=0, color='red', linestyle='--')  # red vertical axis for x=0\n",
        "plt.axvline(x=1, color='red', linestyle='--')  # red vercital axis for x=1\n",
        "plt.text(1, -0.25, 'train domain', horizontalalignment='center', fontsize=12)\n",
        "\n",
        "\n",
        "plt.legend()\n",
        "plt.grid()\n",
        "plt.show()"
      ],
      "metadata": {
        "colab": {
          "base_uri": "https://localhost:8080/",
          "height": 472
        },
        "id": "2gxpNYdtcIge",
        "outputId": "32f2d49d-d25b-471b-a6d0-ec3aee3bd6c0"
      },
      "execution_count": 13,
      "outputs": [
        {
          "output_type": "display_data",
          "data": {
            "text/plain": [
              "<Figure size 640x480 with 1 Axes>"
            ],
            "image/png": "[encoded data removed]"
          },
          "metadata": {}
        }
      ]
    },
    {
      "cell_type": "code",
      "source": [
        "t_values.max().detach().numpy()"
      ],
      "metadata": {
        "colab": {
          "base_uri": "https://localhost:8080/"
        },
        "id": "Vrvh4fHsV_Br",
        "outputId": "65eeaf2f-aa0e-4a9c-cfda-b322b762f25c"
      },
      "execution_count": 52,
      "outputs": [
        {
          "output_type": "execute_result",
          "data": {
            "text/plain": [
              "11.0"
            ]
          },
          "metadata": {},
          "execution_count": 52
        }
      ]
    },
    {
      "cell_type": "markdown",
      "source": [
        "We can see that both MLP and Resnet(MLP) architectures are able to approximate the true solution on the train domain.\n",
        "What can we say outside the training domain ?\n",
        "To do so, we propose a metric to measure how close is our solution to the \"true\" one."
      ],
      "metadata": {
        "id": "9uWFilxAYBDY"
      }
    },
    {
      "cell_type": "markdown",
      "source": [
        "Assume $f$ is the analitical solution and $\\phi$ is the neuronal network that we trained on $[0,T]$.\n",
        "\n",
        "For any $ɛ>0$ we define $$T_ɛ(\\phi):=\\sup\\left\\{t\\geq T: \\quad  \\left|\\phi-f \\right|<ɛ \\right\\}.$$\n",
        "\n",
        "We can see that $$\\forall \\varepsilon>0\\quad T_{ɛ}(MLP)>T_{ɛ}(Resnet).$$"
      ],
      "metadata": {
        "id": "eWJRvRt6YcP4"
      }
    },
    {
      "cell_type": "markdown",
      "source": [
        "Notice that with this \"metric\" a neuronal network $\\phi$ can generalize over a time horizon $T^{\\prime}>T$ if\n",
        "$$\\forall \\epsilon>0 \\quad T_{ɛ}(\\phi)=T^\\prime.$$"
      ],
      "metadata": {
        "id": "fCeC7vKy6V7l"
      }
    },
    {
      "cell_type": "code",
      "source": [
        "#saving \"best weights\"\n",
        "#torch.save(MODELS[0].state_dict(), 'model_weights.pth')"
      ],
      "metadata": {
        "id": "eBlLC2LrxAPg"
      },
      "execution_count": null,
      "outputs": []
    },
    {
      "cell_type": "code",
      "source": [
        "#store the values of each neuronal network\n",
        "values_MLP=MLP_optimal_values\n",
        "values_Resnet=x_VALUES[1]\n",
        "\n",
        "\n",
        "def difference(f,g):\n",
        "  return np.abs(f-g)\n",
        "\n",
        "f=[true_sol(t) for t in t_values.numpy()] #analytical solution\n",
        "diff=difference(f,values_Resnet)\n",
        "Epsilon=[1/(k+1) for k in [1,10,100,1000,10000]] #epsilon value in the formula above\n",
        "\n",
        "time=t_values.numpy()\n",
        "diff_resnet=difference(f,values_Resnet)\n",
        "diff_MLP=difference(f,values_MLP)\n",
        "#print(diff_MLP)\n",
        "T_MLP=[]\n",
        "T_resnet=[]\n",
        "for eps in Epsilon:\n",
        "  index_resnet=np.where(diff_resnet<eps)[0]\n",
        "  index_mlp=np.where(diff_MLP<eps)[0]\n",
        "  time_mlp=time[np.max(index_mlp)][0] #T_epsilon(MLP)\n",
        "  if np.size(index_resnet)==0:\n",
        "    time_resnet=t_values.max().detach().numpy()\n",
        "  time_resnet=time[np.max(index_resnet)][0] #T_epsilon(Resnet)\n",
        "  T_MLP.append(time_mlp) #store the values\n",
        "  T_resnet.append(time_resnet) #store the values\n",
        "\n"
      ],
      "metadata": {
        "id": "lPk7zP_5cT69"
      },
      "execution_count": 15,
      "outputs": []
    },
    {
      "cell_type": "code",
      "source": [],
      "metadata": {
        "id": "z6A0Vq6YgcLG"
      },
      "execution_count": null,
      "outputs": []
    },
    {
      "cell_type": "code",
      "source": [
        "#Plot\n",
        "plt.figure()\n",
        "plt.plot(Epsilon, T_MLP, label='T_MLP(Epsilon)')\n",
        "plt.plot( Epsilon,T_resnet, label='T_resnet(Epsilon)')\n",
        "plt.title('maximum generalisation time vs epsilon (Higher is better)')\n",
        "plt.xlabel(\"epsilon\")\n",
        "plt.ylabel(\"time\")\n",
        "plt.legend()\n",
        "plt.savefig('maximum_generalisation_time_xprime_x_MLP')\n",
        "plt.show()"
      ],
      "metadata": {
        "colab": {
          "base_uri": "https://localhost:8080/",
          "height": 472
        },
        "id": "GMI-W2X9gIA7",
        "outputId": "22f460d3-09fe-4089-a1da-110273ef552f"
      },
      "execution_count": 17,
      "outputs": [
        {
          "output_type": "display_data",
          "data": {
            "text/plain": [
              "<Figure size 640x480 with 1 Axes>"
            ],
            "image/png": "[encoded data removed]"
          },
          "metadata": {}
        }
      ]
    },
    {
      "cell_type": "code",
      "source": [],
      "metadata": {
        "id": "FG0UZKqYhTGd"
      },
      "execution_count": null,
      "outputs": []
    }
  ]
}